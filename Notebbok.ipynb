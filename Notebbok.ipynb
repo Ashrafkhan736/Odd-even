{
 "cells": [
  {
   "cell_type": "code",
   "execution_count": 1,
   "metadata": {
    "colab": {
     "base_uri": "https://localhost:8080/"
    },
    "id": "gENN6ZilipND",
    "outputId": "009b8175-1754-4d6b-dadc-845a8f39e6ca"
   },
   "outputs": [],
   "source": [
    "! pip install -q streamlit"
   ]
  },
  {
   "cell_type": "code",
   "execution_count": 2,
   "metadata": {
    "colab": {
     "base_uri": "https://localhost:8080/"
    },
    "id": "6QfJ9aPKiza5",
    "outputId": "f5f6bb1c-1f67-47df-dd0e-af24ec5dca86"
   },
   "outputs": [
    {
     "name": "stdout",
     "output_type": "stream",
     "text": [
      "--2022-11-30 19:55:36--  https://bin.equinox.io/c/bNyj1mQVY4c/ngrok-v3-stable-linux-amd64.zip\n",
      "Resolving bin.equinox.io (bin.equinox.io)... 54.237.133.81, 18.205.222.128, 54.161.241.46, ...\n",
      "Connecting to bin.equinox.io (bin.equinox.io)|54.237.133.81|:443... connected.\n",
      "HTTP request sent, awaiting response... 200 OK\n",
      "Length: 8454063 (8.1M) [application/octet-stream]\n",
      "Saving to: ‘ngrok-v3-stable-linux-amd64.zip’\n",
      "\n",
      "ngrok-v3-stable-lin 100%[===================>]   8.06M  94.0KB/s    in 91s     \n",
      "\n",
      "2022-11-30 19:57:09 (90.6 KB/s) - ‘ngrok-v3-stable-linux-amd64.zip’ saved [8454063/8454063]\n",
      "\n"
     ]
    }
   ],
   "source": [
    "!wget https://bin.equinox.io/c/bNyj1mQVY4c/ngrok-v3-stable-linux-amd64.zip"
   ]
  },
  {
   "cell_type": "code",
   "execution_count": 3,
   "metadata": {
    "colab": {
     "base_uri": "https://localhost:8080/"
    },
    "id": "NqFt6uqxjNvD",
    "outputId": "b0d7d83a-c5db-4b76-9695-0d1eb5426b0b"
   },
   "outputs": [
    {
     "name": "stdout",
     "output_type": "stream",
     "text": [
      "Archive:  ngrok-v3-stable-linux-amd64.zip\n",
      "  inflating: ngrok                   \n"
     ]
    }
   ],
   "source": [
    "!unzip ngrok-v3-stable-linux-amd64.zip"
   ]
  },
  {
   "cell_type": "code",
   "execution_count": 5,
   "metadata": {
    "colab": {
     "base_uri": "https://localhost:8080/"
    },
    "id": "zWd5s2J5jW2B",
    "outputId": "146a4459-c5d4-4caa-f6d9-924b732adcd4"
   },
   "outputs": [
    {
     "name": "stdout",
     "output_type": "stream",
     "text": [
      "Authtoken saved to configuration file: /home/ashraf/.config/ngrok/ngrok.yml\r\n"
     ]
    }
   ],
   "source": [
    "! ./ngrok  authtoken 2IGdfHnrZx3YWqkLy5MJ4ElI7aj_7dpCbr2ze86SXuEs4iteM"
   ]
  },
  {
   "cell_type": "code",
   "execution_count": 6,
   "metadata": {
    "id": "LuoDgg7mj778"
   },
   "outputs": [],
   "source": [
    "get_ipython().system_raw(\"./ngrok http 8501 &\")"
   ]
  },
  {
   "cell_type": "code",
   "execution_count": 7,
   "metadata": {
    "colab": {
     "base_uri": "https://localhost:8080/"
    },
    "id": "t7Z9KADkkI6v",
    "outputId": "f98881bf-5374-41fb-e784-b9bff1d18321"
   },
   "outputs": [
    {
     "name": "stdout",
     "output_type": "stream",
     "text": [
      "Excecute the next cell and go to the following url: https://1cd1-122-177-196-247.in.ngrok.io\r\n"
     ]
    }
   ],
   "source": [
    "!curl -s http://localhost:4040/api/tunnels | python3 -c \\\n",
    "  'import sys, json; print(\"Excecute the next cell and go to the following url: \" + json.load(sys.stdin)[\"tunnels\"][0][\"public_url\"])'"
   ]
  },
  {
   "cell_type": "code",
   "execution_count": null,
   "metadata": {
    "colab": {
     "base_uri": "https://localhost:8080/"
    },
    "id": "6yIBWC-fk7IP",
    "outputId": "2c7ca8d5-e798-45a6-a71e-621c4adaa534"
   },
   "outputs": [
    {
     "name": "stdout",
     "output_type": "stream",
     "text": [
      "\r\n",
      "  👋 \u001b[1mWelcome to Streamlit!\u001b[0m\r\n",
      "\r\n",
      "  If you’d like to receive helpful onboarding emails, news, offers, promotions,\r\n",
      "  and the occasional swag, please enter your email address below. Otherwise,\r\n",
      "  leave this field blank.\r\n",
      "\r\n",
      "  \u001b[34mEmail: \u001b[0m "
     ]
    }
   ],
   "source": [
    "!streamlit run ./app.py"
   ]
  },
  {
   "cell_type": "code",
   "execution_count": null,
   "metadata": {},
   "outputs": [],
   "source": []
  }
 ],
 "metadata": {
  "colab": {
   "provenance": [],
   "toc_visible": true
  },
  "kernelspec": {
   "display_name": "Python 3 (ipykernel)",
   "language": "python",
   "name": "python3"
  },
  "language_info": {
   "codemirror_mode": {
    "name": "ipython",
    "version": 3
   },
   "file_extension": ".py",
   "mimetype": "text/x-python",
   "name": "python",
   "nbconvert_exporter": "python",
   "pygments_lexer": "ipython3",
   "version": "3.9.13"
  }
 },
 "nbformat": 4,
 "nbformat_minor": 1
}
